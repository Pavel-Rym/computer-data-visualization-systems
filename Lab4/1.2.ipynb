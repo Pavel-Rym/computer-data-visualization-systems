{
 "cells": [
  {
   "cell_type": "markdown",
   "metadata": {},
   "source": [
    "Крижинка Коха"
   ]
  },
  {
   "cell_type": "code",
   "execution_count": null,
   "metadata": {},
   "outputs": [],
   "source": [
    "import turtle\n",
    "\n",
    "def koch_snowflake(t, order, size):\n",
    "    if order == 0:\n",
    "        t.forward(size)\n",
    "    else:\n",
    "        for angle in [60, -120, 60, 0]:\n",
    "            koch_snowflake(t, order-1, size/3)\n",
    "            t.left(angle)\n",
    "\n",
    "# Створення екрану та черепашки\n",
    "screen = turtle.Screen()\n",
    "screen.setup(800, 800)\n",
    "screen.title(\"Koch Snowflake\")\n",
    "\n",
    "t = turtle.Turtle()\n",
    "t.speed(0)\n",
    "t.penup()\n",
    "t.goto(-150, 90)\n",
    "t.pendown()\n",
    "\n",
    "# Виклик рекурсивної функції для малювання крижинки Коха\n",
    "for _ in range(3):\n",
    "    koch_snowflake(t, 4, 300)\n",
    "    t.right(120)\n",
    "\n",
    "# Закриття вікна при кліку\n",
    "screen.exitonclick()"
   ]
  }
 ],
 "metadata": {
  "kernelspec": {
   "display_name": "Python 3",
   "language": "python",
   "name": "python3"
  },
  "language_info": {
   "codemirror_mode": {
    "name": "ipython",
    "version": 3
   },
   "file_extension": ".py",
   "mimetype": "text/x-python",
   "name": "python",
   "nbconvert_exporter": "python",
   "pygments_lexer": "ipython3",
   "version": "3.12.0"
  }
 },
 "nbformat": 4,
 "nbformat_minor": 2
}
