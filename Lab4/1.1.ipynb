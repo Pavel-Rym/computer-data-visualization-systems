{
 "cells": [
  {
   "cell_type": "markdown",
   "metadata": {},
   "source": [
    "Завантаження даних"
   ]
  },
  {
   "cell_type": "code",
   "execution_count": 1,
   "metadata": {},
   "outputs": [
    {
     "name": "stdout",
     "output_type": "stream",
     "text": [
      "Downloading data from https://storage.googleapis.com/tensorflow/tf-keras-datasets/train-labels-idx1-ubyte.gz\n",
      "\u001b[1m29515/29515\u001b[0m \u001b[32m━━━━━━━━━━━━━━━━━━━━\u001b[0m\u001b[37m\u001b[0m \u001b[1m0s\u001b[0m 1us/step\n",
      "Downloading data from https://storage.googleapis.com/tensorflow/tf-keras-datasets/train-images-idx3-ubyte.gz\n",
      "\u001b[1m26421880/26421880\u001b[0m \u001b[32m━━━━━━━━━━━━━━━━━━━━\u001b[0m\u001b[37m\u001b[0m \u001b[1m11s\u001b[0m 0us/step\n",
      "Downloading data from https://storage.googleapis.com/tensorflow/tf-keras-datasets/t10k-labels-idx1-ubyte.gz\n",
      "\u001b[1m5148/5148\u001b[0m \u001b[32m━━━━━━━━━━━━━━━━━━━━\u001b[0m\u001b[37m\u001b[0m \u001b[1m0s\u001b[0m 1us/step\n",
      "Downloading data from https://storage.googleapis.com/tensorflow/tf-keras-datasets/t10k-images-idx3-ubyte.gz\n",
      "\u001b[1m4422102/4422102\u001b[0m \u001b[32m━━━━━━━━━━━━━━━━━━━━\u001b[0m\u001b[37m\u001b[0m \u001b[1m1s\u001b[0m 0us/step\n"
     ]
    }
   ],
   "source": [
    "import tensorflow as tf\n",
    "from tensorflow.keras.datasets import fashion_mnist\n",
    "\n",
    "# Завантаження датасету Fashion MNIST\n",
    "(train_images, _), (_, _) = fashion_mnist.load_data()\n",
    "\n",
    "# Нормалізація даних\n",
    "train_images = (train_images - 127.5) / 127.5\n",
    "\n",
    "# Розмір зображень\n",
    "img_shape = train_images.shape[1:]"
   ]
  },
  {
   "cell_type": "markdown",
   "metadata": {},
   "source": [
    "Створення генератора"
   ]
  },
  {
   "cell_type": "code",
   "execution_count": 5,
   "metadata": {},
   "outputs": [],
   "source": [
    "def build_generator():\n",
    "    model = tf.keras.Sequential([\n",
    "        tf.keras.layers.Dense(256, input_shape=(100,), activation='relu'),\n",
    "        tf.keras.layers.BatchNormalization(),\n",
    "        tf.keras.layers.Dense(512, activation='relu'),\n",
    "        tf.keras.layers.BatchNormalization(),\n",
    "        tf.keras.layers.Dense(1024, activation='relu'),\n",
    "        tf.keras.layers.BatchNormalization(),\n",
    "        tf.keras.layers.Dense(tf.reduce_prod(img_shape).numpy(), activation='tanh'),\n",
    "        tf.keras.layers.Reshape(img_shape)\n",
    "    ])\n",
    "    return model"
   ]
  },
  {
   "cell_type": "markdown",
   "metadata": {},
   "source": [
    "Створення дискримінатора"
   ]
  },
  {
   "cell_type": "code",
   "execution_count": 6,
   "metadata": {},
   "outputs": [],
   "source": [
    "def build_discriminator():\n",
    "    model = tf.keras.Sequential([\n",
    "        tf.keras.layers.Flatten(input_shape=img_shape),\n",
    "        tf.keras.layers.Dense(512, activation='relu'),\n",
    "        tf.keras.layers.Dense(256, activation='relu'),\n",
    "        tf.keras.layers.Dense(1, activation='sigmoid')\n",
    "    ])\n",
    "    return model"
   ]
  },
  {
   "cell_type": "markdown",
   "metadata": {},
   "source": [
    "Складання моделі GAN"
   ]
  },
  {
   "cell_type": "code",
   "execution_count": 7,
   "metadata": {},
   "outputs": [
    {
     "name": "stderr",
     "output_type": "stream",
     "text": [
      "c:\\Users\\User\\AppData\\Local\\Programs\\Python\\Python312\\Lib\\site-packages\\keras\\src\\layers\\reshaping\\flatten.py:37: UserWarning: Do not pass an `input_shape`/`input_dim` argument to a layer. When using Sequential models, prefer using an `Input(shape)` object as the first layer in the model instead.\n",
      "  super().__init__(**kwargs)\n"
     ]
    }
   ],
   "source": [
    "generator = build_generator()\n",
    "discriminator = build_discriminator()\n",
    "\n",
    "# Заморожуємо ваги дискримінатора під час тренування генератора\n",
    "discriminator.trainable = False\n",
    "\n",
    "gan_input = tf.keras.Input(shape=(100,))\n",
    "gan_output = discriminator(generator(gan_input))\n",
    "gan = tf.keras.Model(gan_input, gan_output)\n",
    "\n",
    "# Компілюємо моделі\n",
    "generator.compile(loss='binary_crossentropy', optimizer='adam')\n",
    "gan.compile(loss='binary_crossentropy', optimizer='adam')"
   ]
  },
  {
   "cell_type": "markdown",
   "metadata": {},
   "source": [
    "Підготовка даних та тренування моделі"
   ]
  },
  {
   "cell_type": "code",
   "execution_count": null,
   "metadata": {},
   "outputs": [],
   "source": [
    "batch_size = 64\n",
    "dataset = tf.data.Dataset.from_tensor_slices(train_images).shuffle(len(train_images)).batch(batch_size)\n",
    "\n",
    "epochs = 50\n",
    "for epoch in range(epochs):\n",
    "    for batch in dataset:\n",
    "        noise = tf.random.normal(shape=(batch_size, 100))\n",
    "        \n",
    "        # Згенерувати зображення\n",
    "        generated_images = generator(noise)\n",
    "        \n",
    "        # Створити неправильні мітки для генератора\n",
    "        misleading_targets = tf.ones((batch_size, 1))\n",
    "        \n",
    "        # Тренування дискримінатора\n",
    "        expanded_batch = tf.cast(batch, tf.float32)\n",
    "        combined_images = tf.concat([tf.cast(generated_images, tf.float32), expanded_batch], axis=-1)\n",
    "        labels = tf.concat([misleading_targets, tf.zeros((batch_size, 1))], axis=0)\n",
    "        labels += 0.05 * tf.random.uniform(tf.shape(labels))\n",
    "        \n",
    "        # Тренування генератора через модель GAN\n",
    "        noise = tf.random.normal(shape=(batch_size, 100))\n",
    "        misleading_targets = tf.zeros((batch_size, 1))\n",
    "        discriminator.trainable = False\n",
    "        gan.train_on_batch(noise, misleading_targets)"
   ]
  },
  {
   "cell_type": "markdown",
   "metadata": {},
   "source": [
    "Побудова графіка функції втрат"
   ]
  },
  {
   "cell_type": "code",
   "execution_count": null,
   "metadata": {},
   "outputs": [],
   "source": [
    "import matplotlib.pyplot as plt\n",
    "\n",
    "def plot_loss(losses):\n",
    "    plt.figure(figsize=(10, 5))\n",
    "    plt.plot(losses[\"generator\"], label=\"generator\")\n",
    "    plt.plot(losses[\"discriminator\"], label=\"discriminator\")\n",
    "    plt.xlabel(\"Epoch\")\n",
    "    plt.ylabel(\"Loss\")\n",
    "    plt.legend()\n",
    "    plt.show()\n",
    "\n",
    "# Тренувальна петля\n",
    "def train(generator, discriminator, gan, dataset, epochs, batch_size):\n",
    "    losses = {\"generator\": [], \"discriminator\": []}\n",
    "    for epoch in range(epochs):\n",
    "        for batch in dataset:\n",
    "            noise = tf.random.normal(shape=(batch_size, 100))\n",
    "            generated_images = generator(noise)\n",
    "            combined_images = tf.concat([generated_images, tf.expand_dims(batch, axis=-1)], axis=0)\n",
    "            labels = tf.concat([tf.ones((batch_size, 1)), tf.zeros((batch_size, 1))], axis=0)\n",
    "            labels += 0.05 * tf.random.uniform(tf.shape(labels))\n",
    "            \n",
    "            discriminator.trainable = True\n",
    "            d_loss = discriminator.train_on_batch(combined_images, labels)\n",
    "            \n",
    "            noise = tf.random.normal(shape=(batch_size, 100))\n",
    "            misleading_targets = tf.zeros((batch_size, 1))\n",
    "            discriminator.trainable = False\n",
    "            g_loss = gan.train_on_batch(noise, misleading_targets)\n",
    "        \n",
    "        losses[\"generator\"].append(g_loss)\n",
    "        losses[\"discriminator\"].append(d_loss)\n",
    "        \n",
    "        if epoch % 10 == 0:\n",
    "            print(f\"Epoch {epoch+1}, Generator Loss: {g_loss}, Discriminator Loss: {d_loss}\")\n",
    "    \n",
    "    plot_loss(losses)\n",
    "\n",
    "# Тренування моделі\n",
    "train(generator, discriminator, gan, dataset, epochs, batch_size)"
   ]
  }
 ],
 "metadata": {
  "kernelspec": {
   "display_name": "Python 3",
   "language": "python",
   "name": "python3"
  },
  "language_info": {
   "codemirror_mode": {
    "name": "ipython",
    "version": 3
   },
   "file_extension": ".py",
   "mimetype": "text/x-python",
   "name": "python",
   "nbconvert_exporter": "python",
   "pygments_lexer": "ipython3",
   "version": "3.12.0"
  }
 },
 "nbformat": 4,
 "nbformat_minor": 2
}
