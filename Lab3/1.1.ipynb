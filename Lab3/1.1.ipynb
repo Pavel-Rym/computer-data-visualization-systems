{
  "cells": [
    {
      "cell_type": "code",
      "source": [
        "import torch\n",
        "import torch.nn as nn\n",
        "import torchvision\n",
        "import torchvision.transforms as transforms\n",
        "import matplotlib.pyplot as plt"
      ],
      "outputs": [],
      "execution_count": 2,
      "metadata": {}
    },
    {
      "cell_type": "markdown",
      "source": [
        "Завантаження даних MNIST"
      ],
      "metadata": {}
    },
    {
      "cell_type": "code",
      "source": [
        "transform = transforms.ToTensor()\n",
        "\n",
        "train_dataset = torchvision.datasets.MNIST(root='./data', train=True, transform=transform, download=True)\n",
        "test_dataset = torchvision.datasets.MNIST(root='./data', train=False, transform=transform, download=True)\n",
        "\n",
        "train_loader = torch.utils.data.DataLoader(dataset=train_dataset, batch_size=64, shuffle=True)\n",
        "test_loader = torch.utils.data.DataLoader(dataset=test_dataset, batch_size=64, shuffle=False)"
      ],
      "outputs": [
        {
          "output_type": "stream",
          "name": "stdout",
          "text": "Downloading http://yann.lecun.com/exdb/mnist/train-images-idx3-ubyte.gz\nDownloading http://yann.lecun.com/exdb/mnist/train-images-idx3-ubyte.gz to ./data\\MNIST\\raw\\train-images-idx3-ubyte.gz\n"
        },
        {
          "output_type": "stream",
          "name": "stderr",
          "text": "100.0%\n"
        },
        {
          "output_type": "stream",
          "name": "stdout",
          "text": "Extracting ./data\\MNIST\\raw\\train-images-idx3-ubyte.gz to ./data\\MNIST\\raw\n"
        },
        {
          "output_type": "stream",
          "name": "stderr",
          "text": "100.0%"
        },
        {
          "output_type": "stream",
          "name": "stdout",
          "text": "\nDownloading http://yann.lecun.com/exdb/mnist/train-labels-idx1-ubyte.gz\nDownloading http://yann.lecun.com/exdb/mnist/train-labels-idx1-ubyte.gz to ./data\\MNIST\\raw\\train-labels-idx1-ubyte.gz\nExtracting ./data\\MNIST\\raw\\train-labels-idx1-ubyte.gz to ./data\\MNIST\\raw\n\nDownloading http://yann.lecun.com/exdb/mnist/t10k-images-idx3-ubyte.gz\nDownloading http://yann.lecun.com/exdb/mnist/t10k-images-idx3-ubyte.gz to ./data\\MNIST\\raw\\t10k-images-idx3-ubyte.gz\n"
        },
        {
          "output_type": "stream",
          "name": "stderr",
          "text": "\n100.0%\n100.0%"
        },
        {
          "output_type": "stream",
          "name": "stdout",
          "text": "Extracting ./data\\MNIST\\raw\\t10k-images-idx3-ubyte.gz to ./data\\MNIST\\raw\n\nDownloading http://yann.lecun.com/exdb/mnist/t10k-labels-idx1-ubyte.gz\nDownloading http://yann.lecun.com/exdb/mnist/t10k-labels-idx1-ubyte.gz to ./data\\MNIST\\raw\\t10k-labels-idx1-ubyte.gz\nExtracting ./data\\MNIST\\raw\\t10k-labels-idx1-ubyte.gz to ./data\\MNIST\\raw\n\n"
        },
        {
          "output_type": "stream",
          "name": "stderr",
          "text": "\n"
        }
      ],
      "execution_count": 3,
      "metadata": {}
    },
    {
      "cell_type": "markdown",
      "source": [
        "Визначення класу автокодувальника"
      ],
      "metadata": {}
    },
    {
      "cell_type": "code",
      "source": [
        "class Autoencoder(nn.Module):\n",
        "    def __init__(self):\n",
        "        super(Autoencoder, self).__init__()\n",
        "        self.encoder = nn.Sequential(\n",
        "            nn.Linear(28*28, 128),\n",
        "            nn.ReLU(True),\n",
        "            nn.Linear(128, 64),\n",
        "            nn.ReLU(True))\n",
        "        self.decoder = nn.Sequential(\n",
        "            nn.Linear(64, 128),\n",
        "            nn.ReLU(True),\n",
        "            nn.Linear(128, 28*28),\n",
        "            nn.Sigmoid())\n",
        "\n",
        "    def forward(self, x):\n",
        "        x = self.encoder(x)\n",
        "        x = self.decoder(x)\n",
        "        return x"
      ],
      "outputs": [],
      "execution_count": 4,
      "metadata": {}
    },
    {
      "cell_type": "markdown",
      "source": [
        "Ініціалізація моделі та втрати"
      ],
      "metadata": {}
    },
    {
      "cell_type": "code",
      "source": [
        "model = Autoencoder()\n",
        "criterion = nn.MSELoss()\n",
        "optimizer = torch.optim.Adam(model.parameters(), lr=0.001)"
      ],
      "outputs": [],
      "execution_count": 5,
      "metadata": {}
    },
    {
      "cell_type": "markdown",
      "source": [
        "Навчання моделі"
      ],
      "metadata": {}
    },
    {
      "cell_type": "code",
      "source": [
        "num_epochs = 10\n",
        "for epoch in range(num_epochs):\n",
        "    for data in train_loader:\n",
        "        img, _ = data\n",
        "        img = img.view(img.size(0), -1)\n",
        "        output = model(img)\n",
        "        loss = criterion(output, img)\n",
        "        optimizer.zero_grad()\n",
        "        loss.backward()\n",
        "        optimizer.step()\n",
        "    print('Epoch [{}/{}], Loss: {:.4f}'.format(epoch+1, num_epochs, loss.item()))\n"
      ],
      "outputs": [
        {
          "output_type": "stream",
          "name": "stdout",
          "text": "Epoch [1/10], Loss: 0.0199\nEpoch [2/10], Loss: 0.0142\nEpoch [3/10], Loss: 0.0106\nEpoch [4/10], Loss: 0.0082\nEpoch [5/10], Loss: 0.0070\nEpoch [6/10], Loss: 0.0075\nEpoch [7/10], Loss: 0.0089\nEpoch [8/10], Loss: 0.0074\nEpoch [9/10], Loss: 0.0049\nEpoch [10/10], Loss: 0.0063\n"
        }
      ],
      "execution_count": 6,
      "metadata": {}
    },
    {
      "cell_type": "markdown",
      "source": [
        "Візуалізація результатів"
      ],
      "metadata": {}
    },
    {
      "cell_type": "code",
      "source": [
        "images, _ = next(iter(test_loader))\n",
        "images = images.view(images.size(0), -1)\n",
        "output = model(images)\n",
        "output = output.view(output.size(0), 1, 28, 28)\n",
        "\n",
        "plt.figure(figsize=(10, 2))\n",
        "for i in range(5):\n",
        "    # оригінальні зображення\n",
        "    plt.subplot(2, 5, i + 1)\n",
        "    plt.imshow(images[i].view(28, 28).numpy(), cmap='gray')\n",
        "    plt.axis('off')\n",
        "\n",
        "    # відновлені зображення\n",
        "    plt.subplot(2, 5, i + 6)\n",
        "    plt.imshow(output[i].view(28, 28).detach().numpy(), cmap='gray')\n",
        "    plt.axis('off')\n",
        "\n",
        "plt.show()"
      ],
      "outputs": [
        {
          "output_type": "display_data",
          "data": {
            "image/png": "[encoded data removed]",
            "text/plain": "<Figure size 1000x200 with 10 Axes>"
          },
          "metadata": {}
        }
      ],
      "execution_count": 8,
      "metadata": {}
    },
    {
      "cell_type": "markdown",
      "source": [
        "Висновок: Під час цього проекту ми розробили автокодувальник на основі багатошарової нейронної мережі для датасету рукописних цифр MNIST.\n",
        "\n",
        "Ми використали бібліотеку PyTorch для побудови моделі та навчання її на тренувальних даних. Модель складалася з енкодера та декодера, кожен з яких мав кілька шарів, з активацією ReLU та наступними повнозв'язними шарами. Ми використовували середньоквадратичну помилку (MSE) як функцію втрати та алгоритм оптимізації Adam для навчання моделі.\n",
        "\n",
        "Після навчання ми використали модель для відновлення зображень з тестового набору даних та візуалізували як оригінальні, так і відновлені зображення. "
      ],
      "metadata": {}
    }
  ],
  "metadata": {
    "kernelspec": {
      "name": "python",
      "language": "python",
      "display_name": "Pyolite (preview)"
    },
    "language_info": {
      "codemirror_mode": {
        "name": "python",
        "version": 3
      },
      "file_extension": ".py",
      "mimetype": "text/x-python",
      "name": "python",
      "nbconvert_exporter": "python",
      "pygments_lexer": "ipython3",
      "version": "3.8"
    },
    "kernel_info": {
      "name": "python"
    },
    "nteract": {
      "version": "nteract-front-end@1.0.0"
    }
  },
  "nbformat": 4,
  "nbformat_minor": 2
}