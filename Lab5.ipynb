{
  "cells": [
    {
      "cell_type": "code",
      "source": [
        "from pyspark.sql import SparkSession\n",
        "from pyspark.sql.functions import mean"
      ],
      "outputs": [],
      "execution_count": 1,
      "metadata": {}
    },
    {
      "cell_type": "markdown",
      "source": [
        "Ініціалізація SparkSession"
      ],
      "metadata": {}
    },
    {
      "cell_type": "code",
      "source": [
        "spark = SparkSession.builder \\\n",
        "    .appName(\"Reading CSV and Data Manipulation\") \\\n",
        "    .getOrCreate()"
      ],
      "outputs": [],
      "execution_count": 2,
      "metadata": {}
    },
    {
      "cell_type": "markdown",
      "source": [
        "Завантаження CSV файлу"
      ],
      "metadata": {}
    },
    {
      "cell_type": "code",
      "source": [
        "df = spark.read.csv(\"lab5_file.csv\", header=True, inferSchema=True)"
      ],
      "outputs": [],
      "execution_count": 3,
      "metadata": {}
    },
    {
      "cell_type": "markdown",
      "source": [
        "Вивід схеми даних"
      ],
      "metadata": {}
    },
    {
      "cell_type": "code",
      "source": [
        "df.printSchema()"
      ],
      "outputs": [
        {
          "output_type": "stream",
          "name": "stdout",
          "text": "root\n |-- Name: string (nullable = true)\n |-- Author: string (nullable = true)\n |-- User Rating: double (nullable = true)\n |-- Reviews: integer (nullable = true)\n |-- Price: integer (nullable = true)\n |-- Year: integer (nullable = true)\n |-- Genre: string (nullable = true)\n\n"
        }
      ],
      "execution_count": 4,
      "metadata": {}
    },
    {
      "cell_type": "markdown",
      "source": [
        "Виведення назв стовпців та їх типів"
      ],
      "metadata": {}
    },
    {
      "cell_type": "code",
      "source": [
        "print(\"Назви стовпців та типи даних:\")\n",
        "df.dtypes"
      ],
      "outputs": [
        {
          "output_type": "stream",
          "name": "stdout",
          "text": "Назви стовпців та типи даних:\n"
        },
        {
          "output_type": "execute_result",
          "execution_count": 5,
          "data": {
            "text/plain": "[('Name', 'string'),\n ('Author', 'string'),\n ('User Rating', 'double'),\n ('Reviews', 'int'),\n ('Price', 'int'),\n ('Year', 'int'),\n ('Genre', 'string')]"
          },
          "metadata": {}
        }
      ],
      "execution_count": 5,
      "metadata": {}
    },
    {
      "cell_type": "markdown",
      "source": [
        "Виведення перших п'яти рядків"
      ],
      "metadata": {}
    },
    {
      "cell_type": "code",
      "source": [
        "print(\"Перші п'ять рядків:\")\n",
        "df.head(5)"
      ],
      "outputs": [
        {
          "output_type": "stream",
          "name": "stdout",
          "text": "Перші п'ять рядків:\n"
        },
        {
          "output_type": "execute_result",
          "execution_count": 6,
          "data": {
            "text/plain": "[Row(Name='10-Day Green Smoothie Cleanse', Author='JJ Smith', User Rating=4.7, Reviews=17350, Price=8, Year=2016, Genre='Non Fiction'),\n Row(Name='11/22/63: A Novel', Author='Stephen King', User Rating=4.6, Reviews=2052, Price=22, Year=2011, Genre='Fiction'),\n Row(Name='12 Rules for Life: An Antidote to Chaos', Author='Jordan B. Peterson', User Rating=4.7, Reviews=18979, Price=15, Year=2018, Genre='Non Fiction'),\n Row(Name='1984 (Signet Classics)', Author='George Orwell', User Rating=4.7, Reviews=21424, Price=6, Year=2017, Genre='Fiction'),\n Row(Name='5,000 Awesome Facts (About Everything!) (National Geographic Kids)', Author='National Geographic Kids', User Rating=4.8, Reviews=7665, Price=12, Year=2019, Genre='Non Fiction')]"
          },
          "metadata": {}
        }
      ],
      "execution_count": 6,
      "metadata": {}
    },
    {
      "cell_type": "markdown",
      "source": [
        "Виведення першого рядка"
      ],
      "metadata": {}
    },
    {
      "cell_type": "code",
      "source": [
        "print(\"Перший рядок:\")\n",
        "df.first()"
      ],
      "outputs": [
        {
          "output_type": "stream",
          "name": "stdout",
          "text": "Перший рядок:\n"
        },
        {
          "output_type": "execute_result",
          "execution_count": 7,
          "data": {
            "text/plain": "Row(Name='10-Day Green Smoothie Cleanse', Author='JJ Smith', User Rating=4.7, Reviews=17350, Price=8, Year=2016, Genre='Non Fiction')"
          },
          "metadata": {}
        }
      ],
      "execution_count": 7,
      "metadata": {}
    },
    {
      "cell_type": "markdown",
      "source": [
        "Опис датасету"
      ],
      "metadata": {}
    },
    {
      "cell_type": "code",
      "source": [
        "print(\"Опис датасету:\")\n",
        "df.describe().show()"
      ],
      "outputs": [
        {
          "output_type": "stream",
          "name": "stdout",
          "text": "Опис датасету:\n+-------+--------------------+----------------+-------------------+------------------+------------------+------------------+-----------+\n|summary|                Name|          Author|        User Rating|           Reviews|             Price|              Year|      Genre|\n+-------+--------------------+----------------+-------------------+------------------+------------------+------------------+-----------+\n|  count|                 550|             550|                550|               550|               550|               550|        550|\n|   mean|                NULL|            NULL|  4.618363636363641|11953.281818181818|              13.1|            2014.0|       NULL|\n| stddev|                NULL|            NULL|0.22698036502519656|11731.132017431892|10.842261978422364|3.1651563841692782|       NULL|\n|    min|\"The Plant Parado...|Abraham Verghese|                3.3|                37|                 0|              2009|    Fiction|\n|    max|You Are a Badass:...|    Zhi Gang Sha|                4.9|             87841|               105|              2019|Non Fiction|\n+-------+--------------------+----------------+-------------------+------------------+------------------+------------------+-----------+\n\n"
        }
      ],
      "execution_count": 8,
      "metadata": {}
    },
    {
      "cell_type": "markdown",
      "source": [
        "Виведення списку стовпців"
      ],
      "metadata": {}
    },
    {
      "cell_type": "code",
      "source": [
        "print(\"Список стовпців:\")\n",
        "df.columns"
      ],
      "outputs": [
        {
          "output_type": "stream",
          "name": "stdout",
          "text": "Список стовпців:\n"
        },
        {
          "output_type": "execute_result",
          "execution_count": 9,
          "data": {
            "text/plain": "['Name', 'Author', 'User Rating', 'Reviews', 'Price', 'Year', 'Genre']"
          },
          "metadata": {}
        }
      ],
      "execution_count": 9,
      "metadata": {}
    },
    {
      "cell_type": "markdown",
      "source": [
        "Загальна кількість рядків"
      ],
      "metadata": {}
    },
    {
      "cell_type": "code",
      "source": [
        "print(\"Загальна кількість рядків даних:\", df.count())"
      ],
      "outputs": [
        {
          "output_type": "stream",
          "name": "stdout",
          "text": "Загальна кількість рядків даних: 550\n"
        }
      ],
      "execution_count": 10,
      "metadata": {}
    },
    {
      "cell_type": "markdown",
      "source": [
        "Обчислення середніх значень кожного стовпця"
      ],
      "metadata": {}
    },
    {
      "cell_type": "code",
      "source": [
        "means = df.agg(*(mean(col).alias(col) for col in df.columns)).collect()[0].asDict()"
      ],
      "outputs": [],
      "execution_count": 13,
      "metadata": {}
    },
    {
      "cell_type": "markdown",
      "source": [
        "Заміна пропущених значень на середні за кожним стовпцем"
      ],
      "metadata": {}
    },
    {
      "cell_type": "code",
      "source": [
        "for col in df.columns:\n",
        "    mean_value = means[col]\n",
        "    if mean_value is not None:\n",
        "        df = df.na.fill(mean_value, [col])"
      ],
      "outputs": [],
      "execution_count": 15,
      "metadata": {}
    },
    {
      "cell_type": "markdown",
      "source": [
        "Перетворення типів даних на float"
      ],
      "metadata": {}
    },
    {
      "cell_type": "code",
      "source": [
        "for col in df.columns:\n",
        "    df = df.withColumn(col, df[col].cast(\"float\"))"
      ],
      "outputs": [],
      "execution_count": 21,
      "metadata": {}
    },
    {
      "cell_type": "markdown",
      "source": [
        "Кількість книг у датасеті"
      ],
      "metadata": {}
    },
    {
      "cell_type": "code",
      "source": [
        "print(\"Кількість книг у датасеті:\", df.count())"
      ],
      "outputs": [
        {
          "output_type": "stream",
          "name": "stdout",
          "text": "Кількість книг у датасеті: 550\n"
        }
      ],
      "execution_count": 22,
      "metadata": {}
    },
    {
      "cell_type": "markdown",
      "source": [
        "Зміна назв колонок"
      ],
      "metadata": {}
    },
    {
      "cell_type": "code",
      "source": [
        "df = df.toDF('name', 'author', 'user_rating', 'reviews', 'price', 'year', 'genre')"
      ],
      "outputs": [],
      "execution_count": 23,
      "metadata": {}
    },
    {
      "cell_type": "markdown",
      "source": [
        "Знайдення автора з найвищим рейтингом"
      ],
      "metadata": {}
    },
    {
      "cell_type": "code",
      "source": [
        "print(\"Автор з найвищим рейтингом:\")\n",
        "df.filter(df.author.isNotNull()).orderBy(df.user_rating.desc()).select('author').first()"
      ],
      "outputs": [
        {
          "output_type": "stream",
          "name": "stdout",
          "text": "Автор з найвищим рейтингом:\n"
        }
      ],
      "execution_count": 24,
      "metadata": {}
    },
    {
      "cell_type": "markdown",
      "source": [
        "Знайдення автора з найнижчим рейтингом"
      ],
      "metadata": {}
    },
    {
      "cell_type": "code",
      "source": [
        "print(\"Автор з найнижчим рейтингом:\")\n",
        "df.orderBy(df.user_rating).select('author').first()"
      ],
      "outputs": [
        {
          "output_type": "stream",
          "name": "stdout",
          "text": "Автор з найнижчим рейтингом:\n"
        },
        {
          "output_type": "execute_result",
          "execution_count": 25,
          "data": {
            "text/plain": "Row(author=None)"
          },
          "metadata": {}
        }
      ],
      "execution_count": 25,
      "metadata": {}
    },
    {
      "cell_type": "markdown",
      "source": [
        "Знайдення автора з найбільшою кількістю рецензій"
      ],
      "metadata": {}
    },
    {
      "cell_type": "code",
      "source": [
        "print(\"Автор з найбільшою кількістю рецензій:\")\n",
        "df.orderBy(df.reviews.desc()).select('author').first()"
      ],
      "outputs": [
        {
          "output_type": "stream",
          "name": "stdout",
          "text": "Автор з найбільшою кількістю рецензій:\n"
        },
        {
          "output_type": "execute_result",
          "execution_count": 27,
          "data": {
            "text/plain": "Row(author=None)"
          },
          "metadata": {}
        }
      ],
      "execution_count": 27,
      "metadata": {}
    },
    {
      "cell_type": "markdown",
      "source": [
        "Побудова гістограми рейтингу для 10 найкращих книг"
      ],
      "metadata": {}
    },
    {
      "cell_type": "code",
      "source": [
        "top_10_books = df.orderBy(df.user_rating.desc()).limit(10)\n",
        "top_10_books.toPandas().user_rating.plot(kind='hist', bins=10)"
      ],
      "outputs": [
        {
          "output_type": "execute_result",
          "execution_count": 28,
          "data": {
            "text/plain": "<Axes: ylabel='Frequency'>"
          },
          "metadata": {}
        },
        {
          "output_type": "display_data",
          "data": {
            "image/png": "[encoded data removed]",
            "text/plain": "<Figure size 640x480 with 1 Axes>"
          },
          "metadata": {}
        }
      ],
      "execution_count": 28,
      "metadata": {}
    },
    {
      "cell_type": "markdown",
      "source": [
        "Побудова матриці кореляції"
      ],
      "metadata": {}
    },
    {
      "cell_type": "code",
      "source": [
        "print(\"Матриця кореляції:\")\n",
        "df.select('user_rating', 'reviews', 'price').toPandas().corr()"
      ],
      "outputs": [
        {
          "output_type": "stream",
          "name": "stdout",
          "text": "Матриця кореляції:\n"
        },
        {
          "output_type": "execute_result",
          "execution_count": 29,
          "data": {
            "text/html": "<div>\n<style scoped>\n    .dataframe tbody tr th:only-of-type {\n        vertical-align: middle;\n    }\n\n    .dataframe tbody tr th {\n        vertical-align: top;\n    }\n\n    .dataframe thead th {\n        text-align: right;\n    }\n</style>\n<table border=\"1\" class=\"dataframe\">\n  <thead>\n    <tr style=\"text-align: right;\">\n      <th></th>\n      <th>user_rating</th>\n      <th>reviews</th>\n      <th>price</th>\n    </tr>\n  </thead>\n  <tbody>\n    <tr>\n      <th>user_rating</th>\n      <td>1.000000</td>\n      <td>-0.001729</td>\n      <td>-0.133086</td>\n    </tr>\n    <tr>\n      <th>reviews</th>\n      <td>-0.001729</td>\n      <td>1.000000</td>\n      <td>-0.109182</td>\n    </tr>\n    <tr>\n      <th>price</th>\n      <td>-0.133086</td>\n      <td>-0.109182</td>\n      <td>1.000000</td>\n    </tr>\n  </tbody>\n</table>\n</div>",
            "text/plain": "             user_rating   reviews     price\nuser_rating     1.000000 -0.001729 -0.133086\nreviews        -0.001729  1.000000 -0.109182\nprice          -0.133086 -0.109182  1.000000"
          },
          "metadata": {}
        }
      ],
      "execution_count": 29,
      "metadata": {}
    }
  ],
  "metadata": {
    "kernelspec": {
      "display_name": "Python 3",
      "language": "python",
      "name": "python3"
    },
    "language_info": {
      "codemirror_mode": {
        "name": "ipython",
        "version": 3
      },
      "file_extension": ".py",
      "mimetype": "text/x-python",
      "name": "python",
      "nbconvert_exporter": "python",
      "pygments_lexer": "ipython3",
      "version": "3.12.0"
    },
    "nteract": {
      "version": "nteract-front-end@1.0.0"
    }
  },
  "nbformat": 4,
  "nbformat_minor": 2
}